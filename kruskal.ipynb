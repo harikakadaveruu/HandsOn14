{
 "cells": [
  {
   "cell_type": "code",
   "execution_count": 3,
   "id": "df86058b",
   "metadata": {},
   "outputs": [
    {
     "name": "stdout",
     "output_type": "stream",
     "text": [
      "Kruskal's MST: [(2, 3, 4), (0, 3, 5), (0, 1, 10)]\n"
     ]
    }
   ],
   "source": [
    "class UnionFind:\n",
    "    def __init__(self, size):\n",
    "        self.root=list(range(size))\n",
    "        self.rank=[1] * size\n",
    "    def find(self, x):\n",
    "        if self.root[x] != x:\n",
    "            self.root[x]=self.find(self.root[x])\n",
    "        return self.root[x]\n",
    "    def union(self, x, y):\n",
    "        rootX=self.find(x)\n",
    "        rootY=self.find(y)\n",
    "        if rootX != rootY:\n",
    "            if self.rank[rootX] > self.rank[rootY]:\n",
    "                self.root[rootY]=rootX\n",
    "            elif self.rank[rootX] < self.rank[rootY]:\n",
    "                self.root[rootX]=rootY\n",
    "            else:\n",
    "                self.root[rootY]=rootX\n",
    "                self.rank[rootX] += 1\n",
    "def kruskal(num_vert,edges):\n",
    "    edges.sort(key=lambda x: x[2])\n",
    "    uf=UnionFind(num_vertices)\n",
    "    mst=[]\n",
    "    for u, v, weight in edges:\n",
    "        if uf.find(u) != uf.find(v):\n",
    "            uf.union(u,v)\n",
    "            mst.append((u, v, weight))\n",
    "    return mst\n",
    "edges=[(0, 1, 10), (0, 2, 6), (0, 3, 5), (1, 3, 15), (2, 3, 4)]\n",
    "num_vert=4\n",
    "print(\"Kruskal's MST:\",kruskal(num_vert,edges))"
   ]
  },
  {
   "cell_type": "code",
   "execution_count": null,
   "id": "3af8a5d1",
   "metadata": {},
   "outputs": [],
   "source": []
  }
 ],
 "metadata": {
  "kernelspec": {
   "display_name": "Python 3 (ipykernel)",
   "language": "python",
   "name": "python3"
  },
  "language_info": {
   "codemirror_mode": {
    "name": "ipython",
    "version": 3
   },
   "file_extension": ".py",
   "mimetype": "text/x-python",
   "name": "python",
   "nbconvert_exporter": "python",
   "pygments_lexer": "ipython3",
   "version": "3.11.5"
  }
 },
 "nbformat": 4,
 "nbformat_minor": 5
}
