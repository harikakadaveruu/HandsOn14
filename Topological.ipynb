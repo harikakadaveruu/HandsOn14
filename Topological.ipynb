{
 "cells": [
  {
   "cell_type": "code",
   "execution_count": 1,
   "id": "0ed0b72f",
   "metadata": {},
   "outputs": [
    {
     "name": "stdout",
     "output_type": "stream",
     "text": [
      "Topological Sort: [4, 5, 2, 0, 3, 1]\n"
     ]
    }
   ],
   "source": [
    "from collections import defaultdict, deque\n",
    "\n",
    "def topological_sort(num_vertices, edges):\n",
    "    graph = defaultdict(list)\n",
    "    in_degree = [0] * num_vertices\n",
    "    for u, v in edges:\n",
    "        graph[u].append(v)\n",
    "        in_degree[v] += 1\n",
    "\n",
    "    # Find all vertices with no incoming edge\n",
    "    zero_in_degree_queue = deque([i for i in range(num_vertices) if in_degree[i] == 0])\n",
    "    top_order = []\n",
    "\n",
    "    while zero_in_degree_queue:\n",
    "        vertex = zero_in_degree_queue.popleft()\n",
    "        top_order.append(vertex)\n",
    "\n",
    "        # For each node N adjacent to the current node, reduce the in-degree of N by 1\n",
    "        for neighbor in graph[vertex]:\n",
    "            in_degree[neighbor] -= 1\n",
    "            if in_degree[neighbor] == 0:\n",
    "                zero_in_degree_queue.append(neighbor)\n",
    "\n",
    "    if len(top_order) == num_vertices:\n",
    "        return top_order\n",
    "    else:\n",
    "        # There is a cycle in the graph\n",
    "        return []\n",
    "\n",
    "# Example usage\n",
    "edges = [(5, 2), (5, 0), (4, 0), (4, 1), (2, 3), (3, 1)]\n",
    "num_vertices = 6\n",
    "print(\"Topological Sort:\", topological_sort(num_vertices, edges))"
   ]
  },
  {
   "cell_type": "code",
   "execution_count": null,
   "id": "c6d86958",
   "metadata": {},
   "outputs": [],
   "source": []
  }
 ],
 "metadata": {
  "kernelspec": {
   "display_name": "Python 3 (ipykernel)",
   "language": "python",
   "name": "python3"
  },
  "language_info": {
   "codemirror_mode": {
    "name": "ipython",
    "version": 3
   },
   "file_extension": ".py",
   "mimetype": "text/x-python",
   "name": "python",
   "nbconvert_exporter": "python",
   "pygments_lexer": "ipython3",
   "version": "3.11.5"
  }
 },
 "nbformat": 4,
 "nbformat_minor": 5
}
