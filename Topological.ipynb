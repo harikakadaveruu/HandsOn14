{
 "cells": [
  {
   "cell_type": "code",
   "execution_count": 3,
   "id": "25f3382f",
   "metadata": {},
   "outputs": [
    {
     "name": "stdout",
     "output_type": "stream",
     "text": [
      "Topological Sort: [4, 5, 2, 0, 3, 1]\n"
     ]
    }
   ],
   "source": [
    "from collections import defaultdict, deque\n",
    "def topological_sort(num_vert,edges):\n",
    "    graph=defaultdict(list)\n",
    "    in_degree=[0]*num_vert\n",
    "    for u,v in edges:\n",
    "        graph[u].append(v)\n",
    "        in_degree[v] += 1\n",
    "    zero_in_degree_queue=deque([i for i in range(num_vert) if in_degree[i] == 0])\n",
    "    top_order=[]\n",
    "    while zero_in_degree_queue:\n",
    "        vertex=zero_in_degree_queue.popleft()\n",
    "        top_order.append(vertex)\n",
    "        for neighbor in graph[vertex]:\n",
    "            in_degree[neighbor] -= 1\n",
    "            if in_degree[neighbor] == 0:\n",
    "                zero_in_degree_queue.append(neighbor)\n",
    "    if len(top_order) == num_vert:\n",
    "        return top_order\n",
    "    else:\n",
    "        return []\n",
    "edges=[(4, 2),(5, 0),(4, 0),(5, 1),(2, 3),(3, 1)]\n",
    "num_vert=6\n",
    "print(\"Topological Sort:\",topological_sort(num_vert,edges))"
   ]
  },
  {
   "cell_type": "code",
   "execution_count": null,
   "id": "25ac0f09",
   "metadata": {},
   "outputs": [],
   "source": []
  }
 ],
 "metadata": {
  "kernelspec": {
   "display_name": "Python 3 (ipykernel)",
   "language": "python",
   "name": "python3"
  },
  "language_info": {
   "codemirror_mode": {
    "name": "ipython",
    "version": 3
   },
   "file_extension": ".py",
   "mimetype": "text/x-python",
   "name": "python",
   "nbconvert_exporter": "python",
   "pygments_lexer": "ipython3",
   "version": "3.11.5"
  }
 },
 "nbformat": 4,
 "nbformat_minor": 5
}
