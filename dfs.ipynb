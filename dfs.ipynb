{
 "cells": [
  {
   "cell_type": "code",
   "execution_count": 2,
   "id": "7f94ecb0",
   "metadata": {},
   "outputs": [
    {
     "name": "stdout",
     "output_type": "stream",
     "text": [
      "DFS starting from vertex 0:\n",
      "0 1 2 3 "
     ]
    }
   ],
   "source": [
    "def dfs(graph,start,visited=None):\n",
    "    if visited is None:\n",
    "        visited=set()\n",
    "    visited.add(start)\n",
    "    print(start,end=' ')\n",
    "    for neighbor in graph[start]:\n",
    "        if neighbor not in visited:\n",
    "            dfs(graph,neighbor,visited)\n",
    "graph = {\n",
    "    0: [1, 2],\n",
    "    1: [2],\n",
    "    2: [1, 3],\n",
    "    3: [3]\n",
    "}\n",
    "print(\"DFS starting from vertex 0:\")\n",
    "dfs(graph, 0)"
   ]
  },
  {
   "cell_type": "code",
   "execution_count": null,
   "id": "853f6150",
   "metadata": {},
   "outputs": [],
   "source": []
  }
 ],
 "metadata": {
  "kernelspec": {
   "display_name": "Python 3 (ipykernel)",
   "language": "python",
   "name": "python3"
  },
  "language_info": {
   "codemirror_mode": {
    "name": "ipython",
    "version": 3
   },
   "file_extension": ".py",
   "mimetype": "text/x-python",
   "name": "python",
   "nbconvert_exporter": "python",
   "pygments_lexer": "ipython3",
   "version": "3.11.5"
  }
 },
 "nbformat": 4,
 "nbformat_minor": 5
}
